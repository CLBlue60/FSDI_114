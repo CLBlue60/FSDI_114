{
 "cells": [
  {
   "cell_type": "markdown",
   "id": "4338e936-3d7e-472d-912f-9ebf4f9c6156",
   "metadata": {},
   "source": [
    "#Stacks\n",
    "\n",
    "A *stack* is an ordered collection of elements where items are added and removed from the same end, commonly known as the *top*."
   ]
  },
  {
   "cell_type": "code",
   "execution_count": 6,
   "id": "2f9436fa-291e-4453-923b-337cf322898f",
   "metadata": {},
   "outputs": [],
   "source": [
    "# Simplified implementation of Stack (relying on built-ins)\n",
    "\n",
    "class Stack:\n",
    "    def __init__(self):\n",
    "        self.items = []     # this is a python3 list\n",
    "\n",
    "    def push(self, value):\n",
    "        self.items.append(value)\n",
    "\n",
    "    def pop(self):\n",
    "        return self.items.pop()\n",
    "\n",
    "    #Nice to have methods:\n",
    "    def peek(self):\n",
    "        return self.items[len(self.items)-1]\n",
    "    \n",
    "    def is_empty(self):\n",
    "        return self.items == []\n",
    "\n",
    "    def size(self):\n",
    "        return len(self.items)"
   ]
  },
  {
   "cell_type": "markdown",
   "id": "7584212f-b036-491e-a8da-08a457ca8c7c",
   "metadata": {},
   "source": [
    "### Problem 1\n",
    "\n",
    "Create a function called invert_str that receives a string as a parameter and it returns it in inverted order as a result.\n",
    "\n",
    "### Examples\n",
    "```\n",
    "rafael -> leafar\n",
    "earth -> htrae\n",
    "hello -> olleh\n",
    "world -> dlrow\n",
    "```\n",
    "\n",
    "### Acceptance Criteria\n",
    "1. Your final solution *absolutely must* make use of the stack class above.\n",
    "2. You should, at a minimum, be able to present a design for your solution (psuedocode recommended, but you *can* use flowcharts.) "
   ]
  },
  {
   "cell_type": "code",
   "execution_count": 19,
   "id": "d0f35fbc-a770-4187-b58e-be7595a54e50",
   "metadata": {},
   "outputs": [],
   "source": [
    "def invert_str(input_string):\n",
    "# Create an empty stack\n",
    "    stack = Stack() \n",
    "# Push each character of the string onto the stack\n",
    "    stack.push(character)\n",
    "# Create an empty string to build the reversed result\n",
    "    reversed_string = \"\"\n",
    "# Pop each character from the stack and append to reversed of string\n",
    "    while not stack_is.empty():\n",
    "        reversed_string += stack.pop()\n",
    "# Return the reversed string\n",
    "    return reversed_string\n"
   ]
  },
  {
   "cell_type": "code",
   "execution_count": 20,
   "id": "5dc1df9a-a930-43c1-9d49-3a655fd0ef64",
   "metadata": {},
   "outputs": [],
   "source": [
    "def invert_str(input_string):\n",
    "    stack = Stack()\n",
    "    for char in input_string:\n",
    "        stack.push(char)\n",
    "    reversed_string = \"\"\n",
    "    while not stack.is_empty():\n",
    "        reversed_string += stack.pop()\n",
    "    return reversed_string"
   ]
  },
  {
   "cell_type": "code",
   "execution_count": null,
   "id": "46bc9f98-bb41-4009-830c-7d27b3490b08",
   "metadata": {},
   "outputs": [],
   "source": []
  }
 ],
 "metadata": {
  "kernelspec": {
   "display_name": "Python 3 (ipykernel)",
   "language": "python",
   "name": "python3"
  },
  "language_info": {
   "codemirror_mode": {
    "name": "ipython",
    "version": 3
   },
   "file_extension": ".py",
   "mimetype": "text/x-python",
   "name": "python",
   "nbconvert_exporter": "python",
   "pygments_lexer": "ipython3",
   "version": "3.12.3"
  }
 },
 "nbformat": 4,
 "nbformat_minor": 5
}
